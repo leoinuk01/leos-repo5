{
 "cells": [
  {
   "cell_type": "code",
   "execution_count": 33,
   "metadata": {},
   "outputs": [],
   "source": [
    "import pandas as pd\n",
    "\n",
    "def load_data():\n",
    "    path = './ABC_Tick_Data/ABC_Level_One_Tick_Data.csv'\n",
    "    return pd.read_csv(path)"
   ]
  },
  {
   "cell_type": "code",
   "execution_count": 34,
   "metadata": {},
   "outputs": [
    {
     "data": {
      "text/html": [
       "<div>\n",
       "<style scoped>\n",
       "    .dataframe tbody tr th:only-of-type {\n",
       "        vertical-align: middle;\n",
       "    }\n",
       "\n",
       "    .dataframe tbody tr th {\n",
       "        vertical-align: top;\n",
       "    }\n",
       "\n",
       "    .dataframe thead th {\n",
       "        text-align: right;\n",
       "    }\n",
       "</style>\n",
       "<table border=\"1\" class=\"dataframe\">\n",
       "  <thead>\n",
       "    <tr style=\"text-align: right;\">\n",
       "      <th></th>\n",
       "      <th>Time_Hour</th>\n",
       "      <th>Instrument_Code</th>\n",
       "      <th>Open</th>\n",
       "      <th>High</th>\n",
       "      <th>Low</th>\n",
       "      <th>Close</th>\n",
       "      <th>VWAP</th>\n",
       "      <th>TWAP</th>\n",
       "      <th>NumberOfTrades</th>\n",
       "      <th>Volume</th>\n",
       "      <th>Turnover</th>\n",
       "      <th>MinTimeHour</th>\n",
       "      <th>MaxTimeHour</th>\n",
       "      <th>Avg_Bid_Ask_Spread</th>\n",
       "    </tr>\n",
       "  </thead>\n",
       "  <tbody>\n",
       "    <tr>\n",
       "      <th>0</th>\n",
       "      <td>2018-01-04 08:00:00+00:00</td>\n",
       "      <td>ABC</td>\n",
       "      <td>53.545455</td>\n",
       "      <td>54.254545</td>\n",
       "      <td>53.518182</td>\n",
       "      <td>54.209091</td>\n",
       "      <td>53.951161</td>\n",
       "      <td>53.989410</td>\n",
       "      <td>3365</td>\n",
       "      <td>254615.54550</td>\n",
       "      <td>1.663332e+09</td>\n",
       "      <td>2020-01-02 08:00:02.736099+00:00</td>\n",
       "      <td>2020-01-02 08:59:58.820761+00:00</td>\n",
       "      <td>-0.014760</td>\n",
       "    </tr>\n",
       "    <tr>\n",
       "      <th>1</th>\n",
       "      <td>2018-01-04 09:00:00+00:00</td>\n",
       "      <td>ABC</td>\n",
       "      <td>54.209091</td>\n",
       "      <td>54.363636</td>\n",
       "      <td>54.100000</td>\n",
       "      <td>54.290909</td>\n",
       "      <td>54.224500</td>\n",
       "      <td>54.225053</td>\n",
       "      <td>1368</td>\n",
       "      <td>77817.18182</td>\n",
       "      <td>5.105765e+08</td>\n",
       "      <td>2020-01-02 09:00:11.940563+00:00</td>\n",
       "      <td>2020-01-02 09:59:58.746897+00:00</td>\n",
       "      <td>0.013481</td>\n",
       "    </tr>\n",
       "    <tr>\n",
       "      <th>2</th>\n",
       "      <td>2018-01-04 10:00:00+00:00</td>\n",
       "      <td>ABC</td>\n",
       "      <td>54.281818</td>\n",
       "      <td>54.318182</td>\n",
       "      <td>54.218182</td>\n",
       "      <td>54.245455</td>\n",
       "      <td>54.265969</td>\n",
       "      <td>54.266231</td>\n",
       "      <td>909</td>\n",
       "      <td>58191.72727</td>\n",
       "      <td>3.820993e+08</td>\n",
       "      <td>2020-01-02 10:00:03.826511+00:00</td>\n",
       "      <td>2020-01-02 10:59:59.987086+00:00</td>\n",
       "      <td>0.011557</td>\n",
       "    </tr>\n",
       "    <tr>\n",
       "      <th>3</th>\n",
       "      <td>2018-01-04 11:00:00+00:00</td>\n",
       "      <td>ABC</td>\n",
       "      <td>54.245455</td>\n",
       "      <td>54.272727</td>\n",
       "      <td>54.118182</td>\n",
       "      <td>54.136364</td>\n",
       "      <td>54.183729</td>\n",
       "      <td>54.182949</td>\n",
       "      <td>501</td>\n",
       "      <td>34762.09091</td>\n",
       "      <td>2.279050e+08</td>\n",
       "      <td>2020-01-02 11:00:02.479285+00:00</td>\n",
       "      <td>2020-01-02 11:59:48.672869+00:00</td>\n",
       "      <td>0.011537</td>\n",
       "    </tr>\n",
       "    <tr>\n",
       "      <th>4</th>\n",
       "      <td>2018-01-04 12:00:00+00:00</td>\n",
       "      <td>ABC</td>\n",
       "      <td>54.181818</td>\n",
       "      <td>54.204591</td>\n",
       "      <td>54.100000</td>\n",
       "      <td>54.177318</td>\n",
       "      <td>54.158934</td>\n",
       "      <td>54.156843</td>\n",
       "      <td>474</td>\n",
       "      <td>34644.18182</td>\n",
       "      <td>2.270226e+08</td>\n",
       "      <td>2020-01-02 12:02:18.720769+00:00</td>\n",
       "      <td>2020-01-02 12:59:28.065067+00:00</td>\n",
       "      <td>-0.014078</td>\n",
       "    </tr>\n",
       "  </tbody>\n",
       "</table>\n",
       "</div>"
      ],
      "text/plain": [
       "                   Time_Hour Instrument_Code       Open       High        Low  \\\n",
       "0  2018-01-04 08:00:00+00:00             ABC  53.545455  54.254545  53.518182   \n",
       "1  2018-01-04 09:00:00+00:00             ABC  54.209091  54.363636  54.100000   \n",
       "2  2018-01-04 10:00:00+00:00             ABC  54.281818  54.318182  54.218182   \n",
       "3  2018-01-04 11:00:00+00:00             ABC  54.245455  54.272727  54.118182   \n",
       "4  2018-01-04 12:00:00+00:00             ABC  54.181818  54.204591  54.100000   \n",
       "\n",
       "       Close       VWAP       TWAP  NumberOfTrades        Volume  \\\n",
       "0  54.209091  53.951161  53.989410            3365  254615.54550   \n",
       "1  54.290909  54.224500  54.225053            1368   77817.18182   \n",
       "2  54.245455  54.265969  54.266231             909   58191.72727   \n",
       "3  54.136364  54.183729  54.182949             501   34762.09091   \n",
       "4  54.177318  54.158934  54.156843             474   34644.18182   \n",
       "\n",
       "       Turnover                       MinTimeHour  \\\n",
       "0  1.663332e+09  2020-01-02 08:00:02.736099+00:00   \n",
       "1  5.105765e+08  2020-01-02 09:00:11.940563+00:00   \n",
       "2  3.820993e+08  2020-01-02 10:00:03.826511+00:00   \n",
       "3  2.279050e+08  2020-01-02 11:00:02.479285+00:00   \n",
       "4  2.270226e+08  2020-01-02 12:02:18.720769+00:00   \n",
       "\n",
       "                        MaxTimeHour  Avg_Bid_Ask_Spread  \n",
       "0  2020-01-02 08:59:58.820761+00:00           -0.014760  \n",
       "1  2020-01-02 09:59:58.746897+00:00            0.013481  \n",
       "2  2020-01-02 10:59:59.987086+00:00            0.011557  \n",
       "3  2020-01-02 11:59:48.672869+00:00            0.011537  \n",
       "4  2020-01-02 12:59:28.065067+00:00           -0.014078  "
      ]
     },
     "execution_count": 34,
     "metadata": {},
     "output_type": "execute_result"
    }
   ],
   "source": [
    "data_raw = load_data()\n",
    "data_raw.head()"
   ]
  },
  {
   "cell_type": "code",
   "execution_count": 3,
   "metadata": {},
   "outputs": [
    {
     "name": "stdout",
     "output_type": "stream",
     "text": [
      "<class 'pandas.core.frame.DataFrame'>\n",
      "RangeIndex: 1023 entries, 0 to 1022\n",
      "Data columns (total 14 columns):\n",
      " #   Column              Non-Null Count  Dtype  \n",
      "---  ------              --------------  -----  \n",
      " 0   Time_Hour           1023 non-null   object \n",
      " 1   Instrument_Code     1023 non-null   object \n",
      " 2   Open                1023 non-null   float64\n",
      " 3   High                1023 non-null   float64\n",
      " 4   Low                 1023 non-null   float64\n",
      " 5   Close               1023 non-null   float64\n",
      " 6   VWAP                1023 non-null   float64\n",
      " 7   TWAP                1023 non-null   float64\n",
      " 8   NumberOfTrades      1023 non-null   int64  \n",
      " 9   Volume              1023 non-null   float64\n",
      " 10  Turnover            1023 non-null   float64\n",
      " 11  MinTimeHour         1023 non-null   object \n",
      " 12  MaxTimeHour         1023 non-null   object \n",
      " 13  Avg_Bid_Ask_Spread  1023 non-null   float64\n",
      "dtypes: float64(9), int64(1), object(4)\n",
      "memory usage: 112.0+ KB\n"
     ]
    }
   ],
   "source": [
    "data_raw.info()"
   ]
  },
  {
   "cell_type": "code",
   "execution_count": 4,
   "metadata": {},
   "outputs": [
    {
     "data": {
      "text/html": [
       "<div>\n",
       "<style scoped>\n",
       "    .dataframe tbody tr th:only-of-type {\n",
       "        vertical-align: middle;\n",
       "    }\n",
       "\n",
       "    .dataframe tbody tr th {\n",
       "        vertical-align: top;\n",
       "    }\n",
       "\n",
       "    .dataframe thead th {\n",
       "        text-align: right;\n",
       "    }\n",
       "</style>\n",
       "<table border=\"1\" class=\"dataframe\">\n",
       "  <thead>\n",
       "    <tr style=\"text-align: right;\">\n",
       "      <th></th>\n",
       "      <th>Open</th>\n",
       "      <th>High</th>\n",
       "      <th>Low</th>\n",
       "      <th>Close</th>\n",
       "      <th>VWAP</th>\n",
       "      <th>TWAP</th>\n",
       "      <th>NumberOfTrades</th>\n",
       "      <th>Volume</th>\n",
       "      <th>Turnover</th>\n",
       "      <th>Avg_Bid_Ask_Spread</th>\n",
       "    </tr>\n",
       "  </thead>\n",
       "  <tbody>\n",
       "    <tr>\n",
       "      <th>count</th>\n",
       "      <td>1023.000000</td>\n",
       "      <td>1023.000000</td>\n",
       "      <td>1023.000000</td>\n",
       "      <td>1023.000000</td>\n",
       "      <td>1023.000000</td>\n",
       "      <td>1023.000000</td>\n",
       "      <td>1023.000000</td>\n",
       "      <td>1.023000e+03</td>\n",
       "      <td>1.023000e+03</td>\n",
       "      <td>1023.000000</td>\n",
       "    </tr>\n",
       "    <tr>\n",
       "      <th>mean</th>\n",
       "      <td>44.006158</td>\n",
       "      <td>44.237205</td>\n",
       "      <td>43.773590</td>\n",
       "      <td>44.003787</td>\n",
       "      <td>44.014833</td>\n",
       "      <td>44.000656</td>\n",
       "      <td>3476.335288</td>\n",
       "      <td>3.947106e+05</td>\n",
       "      <td>2.054690e+09</td>\n",
       "      <td>-0.008525</td>\n",
       "    </tr>\n",
       "    <tr>\n",
       "      <th>std</th>\n",
       "      <td>7.045234</td>\n",
       "      <td>7.066492</td>\n",
       "      <td>7.152791</td>\n",
       "      <td>7.043902</td>\n",
       "      <td>7.053277</td>\n",
       "      <td>7.042722</td>\n",
       "      <td>3215.359465</td>\n",
       "      <td>4.901335e+05</td>\n",
       "      <td>2.600115e+09</td>\n",
       "      <td>0.157476</td>\n",
       "    </tr>\n",
       "    <tr>\n",
       "      <th>min</th>\n",
       "      <td>33.636364</td>\n",
       "      <td>33.785909</td>\n",
       "      <td>6.339418</td>\n",
       "      <td>33.631818</td>\n",
       "      <td>33.647405</td>\n",
       "      <td>33.658734</td>\n",
       "      <td>1.000000</td>\n",
       "      <td>4.454545e+00</td>\n",
       "      <td>2.695991e+04</td>\n",
       "      <td>-0.945191</td>\n",
       "    </tr>\n",
       "    <tr>\n",
       "      <th>25%</th>\n",
       "      <td>37.102273</td>\n",
       "      <td>37.268182</td>\n",
       "      <td>36.956818</td>\n",
       "      <td>37.131818</td>\n",
       "      <td>37.116435</td>\n",
       "      <td>37.113900</td>\n",
       "      <td>1379.000000</td>\n",
       "      <td>1.127750e+05</td>\n",
       "      <td>5.820509e+08</td>\n",
       "      <td>0.000469</td>\n",
       "    </tr>\n",
       "    <tr>\n",
       "      <th>50%</th>\n",
       "      <td>43.536364</td>\n",
       "      <td>43.968182</td>\n",
       "      <td>43.263636</td>\n",
       "      <td>43.595455</td>\n",
       "      <td>43.639305</td>\n",
       "      <td>43.640611</td>\n",
       "      <td>2487.000000</td>\n",
       "      <td>2.155232e+05</td>\n",
       "      <td>1.088315e+09</td>\n",
       "      <td>0.009007</td>\n",
       "    </tr>\n",
       "    <tr>\n",
       "      <th>75%</th>\n",
       "      <td>51.326005</td>\n",
       "      <td>51.509363</td>\n",
       "      <td>51.154545</td>\n",
       "      <td>51.295455</td>\n",
       "      <td>51.294998</td>\n",
       "      <td>51.269325</td>\n",
       "      <td>4414.500000</td>\n",
       "      <td>4.635416e+05</td>\n",
       "      <td>2.438367e+09</td>\n",
       "      <td>0.011248</td>\n",
       "    </tr>\n",
       "    <tr>\n",
       "      <th>max</th>\n",
       "      <td>54.354545</td>\n",
       "      <td>67.363636</td>\n",
       "      <td>54.336364</td>\n",
       "      <td>54.381818</td>\n",
       "      <td>56.555639</td>\n",
       "      <td>54.385951</td>\n",
       "      <td>24857.000000</td>\n",
       "      <td>4.424551e+06</td>\n",
       "      <td>2.483121e+10</td>\n",
       "      <td>1.941967</td>\n",
       "    </tr>\n",
       "  </tbody>\n",
       "</table>\n",
       "</div>"
      ],
      "text/plain": [
       "              Open         High          Low        Close         VWAP  \\\n",
       "count  1023.000000  1023.000000  1023.000000  1023.000000  1023.000000   \n",
       "mean     44.006158    44.237205    43.773590    44.003787    44.014833   \n",
       "std       7.045234     7.066492     7.152791     7.043902     7.053277   \n",
       "min      33.636364    33.785909     6.339418    33.631818    33.647405   \n",
       "25%      37.102273    37.268182    36.956818    37.131818    37.116435   \n",
       "50%      43.536364    43.968182    43.263636    43.595455    43.639305   \n",
       "75%      51.326005    51.509363    51.154545    51.295455    51.294998   \n",
       "max      54.354545    67.363636    54.336364    54.381818    56.555639   \n",
       "\n",
       "              TWAP  NumberOfTrades        Volume      Turnover  \\\n",
       "count  1023.000000     1023.000000  1.023000e+03  1.023000e+03   \n",
       "mean     44.000656     3476.335288  3.947106e+05  2.054690e+09   \n",
       "std       7.042722     3215.359465  4.901335e+05  2.600115e+09   \n",
       "min      33.658734        1.000000  4.454545e+00  2.695991e+04   \n",
       "25%      37.113900     1379.000000  1.127750e+05  5.820509e+08   \n",
       "50%      43.640611     2487.000000  2.155232e+05  1.088315e+09   \n",
       "75%      51.269325     4414.500000  4.635416e+05  2.438367e+09   \n",
       "max      54.385951    24857.000000  4.424551e+06  2.483121e+10   \n",
       "\n",
       "       Avg_Bid_Ask_Spread  \n",
       "count         1023.000000  \n",
       "mean            -0.008525  \n",
       "std              0.157476  \n",
       "min             -0.945191  \n",
       "25%              0.000469  \n",
       "50%              0.009007  \n",
       "75%              0.011248  \n",
       "max              1.941967  "
      ]
     },
     "execution_count": 4,
     "metadata": {},
     "output_type": "execute_result"
    }
   ],
   "source": [
    "data_raw.describe()"
   ]
  },
  {
   "cell_type": "code",
   "execution_count": 5,
   "metadata": {},
   "outputs": [
    {
     "data": {
      "image/png": "[encoded data removed]",
      "text/plain": [
       "<Figure size 1440x1080 with 12 Axes>"
      ]
     },
     "metadata": {
      "needs_background": "light"
     },
     "output_type": "display_data"
    }
   ],
   "source": [
    "import matplotlib.pyplot as plt\n",
    "\n",
    "data_raw.hist(bins=50, figsize=(20,15))\n",
    "plt.show()"
   ]
  },
  {
   "cell_type": "markdown",
   "metadata": {},
   "source": [
    "### Adding relevant features"
   ]
  },
  {
   "cell_type": "code",
   "execution_count": 6,
   "metadata": {},
   "outputs": [],
   "source": [
    "data_raw['timeframe'] = 1\n",
    "data_raw['horizon_hr'] = data_raw['timeframe'].cumsum()\n",
    "data_raw['trade_num'] = data_raw['NumberOfTrades'].cumsum()\n",
    "data_raw['volume'] = data_raw['Volume'].cumsum()\n",
    "data_raw['liquidation_cost'] = data_raw['Avg_Bid_Ask_Spread'].cumsum()"
   ]
  },
  {
   "cell_type": "code",
   "execution_count": 7,
   "metadata": {},
   "outputs": [
    {
     "name": "stdout",
     "output_type": "stream",
     "text": [
      "<class 'pandas.core.frame.DataFrame'>\n",
      "RangeIndex: 1023 entries, 0 to 1022\n",
      "Data columns (total 4 columns):\n",
      " #   Column            Non-Null Count  Dtype  \n",
      "---  ------            --------------  -----  \n",
      " 0   trade_num         1023 non-null   int64  \n",
      " 1   volume            1023 non-null   float64\n",
      " 2   horizon_hr        1023 non-null   int64  \n",
      " 3   liquidation_cost  1023 non-null   float64\n",
      "dtypes: float64(2), int64(2)\n",
      "memory usage: 32.1 KB\n"
     ]
    }
   ],
   "source": [
    "data_selected = data_raw[['trade_num', 'volume','horizon_hr','liquidation_cost']]\n",
    "data_selected.info()"
   ]
  },
  {
   "cell_type": "markdown",
   "metadata": {},
   "source": [
    "### Train set / test set split"
   ]
  },
  {
   "cell_type": "code",
   "execution_count": 8,
   "metadata": {},
   "outputs": [],
   "source": [
    "from sklearn.model_selection import train_test_split\n",
    "\n",
    "train_set, test_set = train_test_split(data_selected, test_size=0.2, random_state=10)"
   ]
  },
  {
   "cell_type": "code",
   "execution_count": 9,
   "metadata": {},
   "outputs": [
    {
     "data": {
      "text/plain": [
       "818"
      ]
     },
     "execution_count": 9,
     "metadata": {},
     "output_type": "execute_result"
    }
   ],
   "source": [
    "len(train_set)"
   ]
  },
  {
   "cell_type": "code",
   "execution_count": 10,
   "metadata": {},
   "outputs": [
    {
     "data": {
      "text/plain": [
       "205"
      ]
     },
     "execution_count": 10,
     "metadata": {},
     "output_type": "execute_result"
    }
   ],
   "source": [
    "len(test_set)"
   ]
  },
  {
   "cell_type": "code",
   "execution_count": 11,
   "metadata": {},
   "outputs": [
    {
     "data": {
      "text/plain": [
       "liquidation_cost    1.000000\n",
       "volume             -0.448214\n",
       "trade_num          -0.450198\n",
       "horizon_hr         -0.539962\n",
       "Name: liquidation_cost, dtype: float64"
      ]
     },
     "execution_count": 11,
     "metadata": {},
     "output_type": "execute_result"
    }
   ],
   "source": [
    "corr_matrix = data_selected.corr()\n",
    "corr_matrix['liquidation_cost'].sort_values(ascending=False)"
   ]
  },
  {
   "cell_type": "code",
   "execution_count": 12,
   "metadata": {},
   "outputs": [
    {
     "data": {
      "text/plain": [
       "array([[<matplotlib.axes._subplots.AxesSubplot object at 0x7f8346f0d710>,\n",
       "        <matplotlib.axes._subplots.AxesSubplot object at 0x7f8346f2fad0>,\n",
       "        <matplotlib.axes._subplots.AxesSubplot object at 0x7f8346f1dd90>],\n",
       "       [<matplotlib.axes._subplots.AxesSubplot object at 0x7f8346b9ab10>,\n",
       "        <matplotlib.axes._subplots.AxesSubplot object at 0x7f8346b8df50>,\n",
       "        <matplotlib.axes._subplots.AxesSubplot object at 0x7f8346bdbc10>],\n",
       "       [<matplotlib.axes._subplots.AxesSubplot object at 0x7f8345d35450>,\n",
       "        <matplotlib.axes._subplots.AxesSubplot object at 0x7f83469dfc50>,\n",
       "        <matplotlib.axes._subplots.AxesSubplot object at 0x7f83469e17d0>]],\n",
       "      dtype=object)"
      ]
     },
     "execution_count": 12,
     "metadata": {},
     "output_type": "execute_result"
    },
    {
     "data": {
      "image/png": "[encoded data removed]",
      "text/plain": [
       "<Figure size 864x576 with 9 Axes>"
      ]
     },
     "metadata": {
      "needs_background": "light"
     },
     "output_type": "display_data"
    }
   ],
   "source": [
    "from pandas.plotting import scatter_matrix\n",
    "\n",
    "attributes = [\"trade_num\", \"volume\", \"horizon_hr\"]\n",
    "scatter_matrix(data_selected[attributes], figsize=(12, 8))"
   ]
  },
  {
   "cell_type": "code",
   "execution_count": 13,
   "metadata": {},
   "outputs": [],
   "source": [
    "X = train_set[['trade_num','volume','horizon_hr']]\n",
    "y = train_set[['liquidation_cost']]"
   ]
  },
  {
   "cell_type": "markdown",
   "metadata": {},
   "source": [
    "### Cross validation & model selection"
   ]
  },
  {
   "cell_type": "code",
   "execution_count": 15,
   "metadata": {},
   "outputs": [],
   "source": [
    "def display_scores(scores):\n",
    "    print(\"Scores:\", scores)\n",
    "    print(\"Mean:\", scores.mean())\n",
    "    print(\"Standard deviation:\", scores.std())"
   ]
  },
  {
   "cell_type": "code",
   "execution_count": 14,
   "metadata": {},
   "outputs": [
    {
     "data": {
      "text/plain": [
       "LinearRegression()"
      ]
     },
     "execution_count": 14,
     "metadata": {},
     "output_type": "execute_result"
    }
   ],
   "source": [
    "from sklearn.linear_model import LinearRegression\n",
    "\n",
    "lin_reg = LinearRegression()\n",
    "lin_reg.fit(X, y)"
   ]
  },
  {
   "cell_type": "code",
   "execution_count": 17,
   "metadata": {},
   "outputs": [
    {
     "data": {
      "text/plain": [
       "1.2271236747075285"
      ]
     },
     "execution_count": 17,
     "metadata": {},
     "output_type": "execute_result"
    }
   ],
   "source": [
    "from sklearn.metrics import mean_squared_error\n",
    "import numpy as np\n",
    "\n",
    "liq_cost_predictions = lin_reg.predict(X)\n",
    "lin_mse = mean_squared_error(y, liq_cost_predictions)\n",
    "lin_rmse = np.sqrt(lin_mse)\n",
    "lin_rmse"
   ]
  },
  {
   "cell_type": "code",
   "execution_count": 18,
   "metadata": {},
   "outputs": [
    {
     "name": "stdout",
     "output_type": "stream",
     "text": [
      "Scores: [1.25541408 1.15068367 1.08152059 1.23236301 1.25903444 1.25524823\n",
      " 1.23400859 1.23116064 1.27938122 1.33167891]\n",
      "Mean: 1.2310493385808998\n",
      "Standard deviation: 0.06576675234291361\n"
     ]
    }
   ],
   "source": [
    "from sklearn.model_selection import cross_val_score\n",
    "\n",
    "lin_scores = cross_val_score(lin_reg, X, y, scoring=\"neg_mean_squared_error\", cv=10)\n",
    "lin_rmse_scores = np.sqrt(-lin_scores)\n",
    "display_scores(lin_rmse_scores)"
   ]
  },
  {
   "cell_type": "code",
   "execution_count": 19,
   "metadata": {},
   "outputs": [
    {
     "data": {
      "text/plain": [
       "DecisionTreeRegressor()"
      ]
     },
     "execution_count": 19,
     "metadata": {},
     "output_type": "execute_result"
    }
   ],
   "source": [
    "from sklearn.tree import DecisionTreeRegressor\n",
    "\n",
    "tree_reg = DecisionTreeRegressor()\n",
    "tree_reg.fit(X, y)"
   ]
  },
  {
   "cell_type": "code",
   "execution_count": 20,
   "metadata": {},
   "outputs": [
    {
     "data": {
      "text/plain": [
       "0.0"
      ]
     },
     "execution_count": 20,
     "metadata": {},
     "output_type": "execute_result"
    }
   ],
   "source": [
    "liq_cost_predictions = tree_reg.predict(X)\n",
    "tree_mse = mean_squared_error(y, liq_cost_predictions)\n",
    "tree_rmse = np.sqrt(tree_mse)\n",
    "tree_rmse"
   ]
  },
  {
   "cell_type": "code",
   "execution_count": 21,
   "metadata": {},
   "outputs": [
    {
     "name": "stdout",
     "output_type": "stream",
     "text": [
      "Scores: [0.27170112 0.11423873 0.15627434 0.18390035 0.17468823 0.12705348\n",
      " 0.16872373 0.06744221 0.1842071  0.21137359]\n",
      "Mean: 0.16596028648208958\n",
      "Standard deviation: 0.05288722582062259\n"
     ]
    }
   ],
   "source": [
    "tree_scores = cross_val_score(tree_reg, X, y, scoring=\"neg_mean_squared_error\", cv=10)\n",
    "tree_rmse_scores = np.sqrt(-tree_scores)\n",
    "display_scores(tree_rmse_scores)"
   ]
  },
  {
   "cell_type": "code",
   "execution_count": 22,
   "metadata": {},
   "outputs": [
    {
     "data": {
      "text/plain": [
       "RandomForestRegressor()"
      ]
     },
     "execution_count": 22,
     "metadata": {},
     "output_type": "execute_result"
    }
   ],
   "source": [
    "from sklearn.ensemble import RandomForestRegressor\n",
    "\n",
    "forest_reg = RandomForestRegressor()\n",
    "forest_reg.fit(X, y.values.ravel())"
   ]
  },
  {
   "cell_type": "code",
   "execution_count": 23,
   "metadata": {},
   "outputs": [
    {
     "data": {
      "text/plain": [
       "0.05025885347554798"
      ]
     },
     "execution_count": 23,
     "metadata": {},
     "output_type": "execute_result"
    }
   ],
   "source": [
    "liq_cost_predictions = forest_reg.predict(X)\n",
    "forest_mse = mean_squared_error(y, liq_cost_predictions)\n",
    "forest_rmse = np.sqrt(forest_mse)\n",
    "forest_rmse"
   ]
  },
  {
   "cell_type": "code",
   "execution_count": 24,
   "metadata": {},
   "outputs": [
    {
     "name": "stdout",
     "output_type": "stream",
     "text": [
      "Scores: [0.19384355 0.07034568 0.11477232 0.13075737 0.15893788 0.10112671\n",
      " 0.12637742 0.07329219 0.12926334 0.19992885]\n",
      "Mean: 0.12986452998168424\n",
      "Standard deviation: 0.04202078234146036\n"
     ]
    }
   ],
   "source": [
    "forest_scores = cross_val_score(forest_reg, X, y.values.ravel(), scoring=\"neg_mean_squared_error\", cv=10)\n",
    "forest_rmse_scores = np.sqrt(-forest_scores)\n",
    "display_scores(forest_rmse_scores)"
   ]
  },
  {
   "cell_type": "markdown",
   "metadata": {},
   "source": [
    "### Fine tuning hyperparameters "
   ]
  },
  {
   "cell_type": "code",
   "execution_count": 25,
   "metadata": {},
   "outputs": [
    {
     "data": {
      "text/plain": [
       "GridSearchCV(cv=10, estimator=RandomForestRegressor(),\n",
       "             param_grid=[{'max_features': [2, 3],\n",
       "                          'n_estimators': [5, 10, 20, 50]},\n",
       "                         {'bootstrap': [False], 'max_features': [2, 3],\n",
       "                          'n_estimators': [5, 10, 20, 50]}],\n",
       "             return_train_score=True, scoring='neg_mean_squared_error')"
      ]
     },
     "execution_count": 25,
     "metadata": {},
     "output_type": "execute_result"
    }
   ],
   "source": [
    "from sklearn.model_selection import GridSearchCV\n",
    "\n",
    "param_grid = [\n",
    "    {'n_estimators': [5,10,20,50], 'max_features': [2, 3]},\n",
    "    {'bootstrap': [False], 'n_estimators': [5,10,20,50], 'max_features': [2, 3]},\n",
    "    ]\n",
    "\n",
    "forest_reg = RandomForestRegressor()\n",
    "\n",
    "grid_search = GridSearchCV(forest_reg, param_grid, cv=10, scoring='neg_mean_squared_error', \n",
    "                           return_train_score=True)\n",
    "\n",
    "grid_search.fit(X, y.values.ravel())"
   ]
  },
  {
   "cell_type": "code",
   "execution_count": 26,
   "metadata": {},
   "outputs": [
    {
     "data": {
      "text/plain": [
       "RandomForestRegressor(max_features=3, n_estimators=20)"
      ]
     },
     "execution_count": 26,
     "metadata": {},
     "output_type": "execute_result"
    }
   ],
   "source": [
    "grid_search.best_estimator_"
   ]
  },
  {
   "cell_type": "code",
   "execution_count": 27,
   "metadata": {},
   "outputs": [
    {
     "name": "stdout",
     "output_type": "stream",
     "text": [
      "0.1550090275375773 {'max_features': 2, 'n_estimators': 5}\n",
      "0.14508003775162762 {'max_features': 2, 'n_estimators': 10}\n",
      "0.13854611283935292 {'max_features': 2, 'n_estimators': 20}\n",
      "0.1409322247143928 {'max_features': 2, 'n_estimators': 50}\n",
      "0.14953699935876005 {'max_features': 3, 'n_estimators': 5}\n",
      "0.14549604921569279 {'max_features': 3, 'n_estimators': 10}\n",
      "0.13369634210091938 {'max_features': 3, 'n_estimators': 20}\n",
      "0.13580956522856497 {'max_features': 3, 'n_estimators': 50}\n",
      "0.17109708730059 {'bootstrap': False, 'max_features': 2, 'n_estimators': 5}\n",
      "0.15327174169692692 {'bootstrap': False, 'max_features': 2, 'n_estimators': 10}\n",
      "0.15612600225257733 {'bootstrap': False, 'max_features': 2, 'n_estimators': 20}\n",
      "0.1560030303306505 {'bootstrap': False, 'max_features': 2, 'n_estimators': 50}\n",
      "0.15690888103602071 {'bootstrap': False, 'max_features': 3, 'n_estimators': 5}\n",
      "0.15898153133278992 {'bootstrap': False, 'max_features': 3, 'n_estimators': 10}\n",
      "0.15461458515522722 {'bootstrap': False, 'max_features': 3, 'n_estimators': 20}\n",
      "0.15514107339241823 {'bootstrap': False, 'max_features': 3, 'n_estimators': 50}\n"
     ]
    }
   ],
   "source": [
    "cvres = grid_search.cv_results_\n",
    "for mean_score, params in zip(cvres[\"mean_test_score\"], cvres[\"params\"]):\n",
    "    print(np.sqrt(-mean_score), params)"
   ]
  },
  {
   "cell_type": "code",
   "execution_count": 28,
   "metadata": {},
   "outputs": [
    {
     "data": {
      "text/plain": [
       "array([0.27122492, 0.45692913, 0.27184595])"
      ]
     },
     "execution_count": 28,
     "metadata": {},
     "output_type": "execute_result"
    }
   ],
   "source": [
    "feature_importances = grid_search.best_estimator_.feature_importances_\n",
    "feature_importances"
   ]
  },
  {
   "cell_type": "code",
   "execution_count": 30,
   "metadata": {},
   "outputs": [],
   "source": [
    "final_model = grid_search.best_estimator_\n",
    "\n",
    "X_test = test_set[['trade_num','volume','horizon_hr']]\n",
    "y_test = test_set[['liquidation_cost']]\n",
    "\n",
    "final_predictions = final_model.predict(X_test)"
   ]
  },
  {
   "cell_type": "code",
   "execution_count": 31,
   "metadata": {},
   "outputs": [
    {
     "data": {
      "text/plain": [
       "array([-8.59446612, -8.09627736, -1.88302945, -4.94064572, -8.02754294])"
      ]
     },
     "execution_count": 31,
     "metadata": {},
     "output_type": "execute_result"
    }
   ],
   "source": [
    "final_predictions[:5]"
   ]
  },
  {
   "cell_type": "code",
   "execution_count": 32,
   "metadata": {},
   "outputs": [
    {
     "data": {
      "text/plain": [
       "0.11286049105638234"
      ]
     },
     "execution_count": 32,
     "metadata": {},
     "output_type": "execute_result"
    }
   ],
   "source": [
    "final_mse = mean_squared_error(y_test, final_predictions)\n",
    "final_rmse = np.sqrt(final_mse)\n",
    "final_rmse"
   ]
  },
  {
   "cell_type": "code",
   "execution_count": null,
   "metadata": {},
   "outputs": [],
   "source": []
  }
 ],
 "metadata": {
  "kernelspec": {
   "display_name": "Python 3",
   "language": "python",
   "name": "python3"
  },
  "language_info": {
   "codemirror_mode": {
    "name": "ipython",
    "version": 3
   },
   "file_extension": ".py",
   "mimetype": "text/x-python",
   "name": "python",
   "nbconvert_exporter": "python",
   "pygments_lexer": "ipython3",
   "version": "3.7.6"
  }
 },
 "nbformat": 4,
 "nbformat_minor": 4
}
